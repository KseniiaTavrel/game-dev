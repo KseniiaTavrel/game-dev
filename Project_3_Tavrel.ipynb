{
 "cells": [
  {
   "cell_type": "markdown",
   "id": "f58df783-5c17-4327-b9b9-a9a62a3f3270",
   "metadata": {},
   "source": [
    "# Проект 3. Исследование поведения пользователей в игре Quiz Freeze.\n",
    "## Задачи:\n",
    "##### 1. Определить, насколько обучение сокращает время прохождения этапов игры.\t\n",
    "##### 2. Доказать, что успешное обучение само по себе влияет на оплату и не имеет значения то, каким этапом оно шло.\t\n",
    "##### 3. Определить, насколько прозрачен процесс взаимодействия с игрой.\t"
   ]
  },
  {
   "cell_type": "code",
   "execution_count": 17,
   "id": "61217366-5adc-4c32-9b98-865fb4ade75d",
   "metadata": {},
   "outputs": [],
   "source": [
    "# Импортируем библиотеки, читаем файлы\n",
    "import pandas as pd\n",
    "import warnings\n",
    "warnings.filterwarnings(\"ignore\")\n",
    "\n",
    "events = pd.read_csv('data/7_4_Events.csv', sep=',')\n",
    "purchase = pd.read_csv('data/purchase.csv', sep=',')"
   ]
  },
  {
   "cell_type": "code",
   "execution_count": 18,
   "id": "b455b527-5d17-4dac-a74d-af4c2b61a796",
   "metadata": {},
   "outputs": [],
   "source": [
    "# Выберем только данные по пользователям, которые зарегистрировались в 2018 году\n",
    "mask1 = events['event_type'] == 'registration'\n",
    "mask2 = ((events['start_time'] >= '2018-01-01') & (events['start_time'] < '2019-01-01'))\n",
    "users_reg_18 = events[mask1 & mask2]['user_id'].to_list()\n",
    "\n",
    "events_df = pd.DataFrame\n",
    "events_df = events[events.user_id.isin(users_reg_18)]\n",
    "\n",
    "# Изменим столбец со временем на формат datetime\n",
    "events_df['start_time'] = pd.to_datetime(events_df['start_time'], format='%Y-%m-%dT%H:%M:%S')\n",
    "\n",
    "# В датасете заказов тоже оставим только пользователей, пришедших в 2018 году, и изменим формат времени\n",
    "purchase_df = pd.DataFrame\n",
    "purchase_df = purchase[purchase['user_id'].isin(users_reg_18)]\n",
    "purchase_df['event_datetime'] = pd.to_datetime(purchase_df['event_datetime'], format='%Y-%m-%dT%H:%M:%S')"
   ]
  },
  {
   "cell_type": "markdown",
   "id": "8da3f2ab-b24f-4901-9b2c-0a58fde8de37",
   "metadata": {},
   "source": [
    "Объединим два датафрейма"
   ]
  },
  {
   "cell_type": "code",
   "execution_count": 19,
   "id": "3d0f29f0-caa9-494d-8086-b8f36d87bd89",
   "metadata": {},
   "outputs": [],
   "source": [
    "# Добавим в датафрейм purchase_df столбец event_type и присвоим всем строкам текст purchase\n",
    "purchase_df['event_type'] = 'purchase'\n",
    "# В двух датафреймах есть столбец id, но они разные - события и заказа. Поэтому переименуем их перед объединением таблиц\n",
    "events_df = events_df.rename(columns={'id':'event_id'})\n",
    "purchase_df = purchase_df.rename(columns={'id':'purchase_id'})\n",
    "# Объединяем вниз два датафрейма\n",
    "total_events_df = pd.concat([events_df, purchase_df], sort=False)\n",
    "# Сбросим индексы объединённой таблицы, отсортируем события по возрастанию времени\n",
    "total_events_df = total_events_df.reset_index(drop=True).sort_values('start_time')"
   ]
  },
  {
   "cell_type": "markdown",
   "id": "408ffd02-ef08-4419-a71c-08d9a198c626",
   "metadata": {},
   "source": [
    "### Гипотеза 1. \n",
    "### Определить, насколько обучение сокращает время прохождения этапов игры.\n",
    "\n",
    "Для этого надо сравнить время прохождения различных этапов для пользователей, которые завершили обучение, и пользователей, не начинавших обучение. Если показатель отличается, выяснить, насколько."
   ]
  },
  {
   "cell_type": "code",
   "execution_count": 20,
   "id": "345d6fea-7c59-4573-861a-ea112e1adb9a",
   "metadata": {},
   "outputs": [],
   "source": [
    "# Определим список пользователей, которые завершили обучение\n",
    "users_finished_tutorial = total_events_df[\n",
    "    total_events_df['event_type'] == 'tutorial_finish']['user_id'].unique().tolist()\n",
    "# Определим список пользователей, которые не начинали обучение. Для этого от множества всех прользователей отнимем тех,\n",
    "# кто начал обучение\n",
    "set_all_users = set(total_events_df['user_id'].unique())\n",
    "users_started_tutorial = total_events_df[total_events_df['event_type'] == 'tutorial_start']['user_id'].unique().tolist()\n",
    "set_users_not_started_tutorial = set_all_users.difference(set(users_started_tutorial))"
   ]
  },
  {
   "cell_type": "code",
   "execution_count": 21,
   "id": "e4dbdbc9-ac8d-4e38-a90e-a93f106184a8",
   "metadata": {},
   "outputs": [
    {
     "name": "stdout",
     "output_type": "stream",
     "text": [
      "Среднее время между регистрацией и выбором уровня сложности для пользователей, завершивших обучение:  0 days 07:05:36.854819357\n",
      "Среднее время между регистрацией и выбором уровня сложности для пользователей, не начинавших обучение:  0 days 05:15:33.122448979\n"
     ]
    }
   ],
   "source": [
    "# Определим время между разными событиями у двух групп\n",
    "# Создадим датафрейм регистриация, и выбор уровня, выбор пакета, покупка. Объединим их, посчитаем дельты времени,\n",
    "# и отфильтруем по группам\n",
    "registration_df = total_events_df[total_events_df['event_type'] == 'registration'][['user_id', 'start_time']]\n",
    "registration_df = registration_df.rename(columns={'start_time': 'registration_time'})\n",
    "\n",
    "level_choice_df = total_events_df[total_events_df['event_type'] == 'level_choice'][['user_id', 'start_time']]\n",
    "level_choice_df = level_choice_df.rename(columns={'start_time': 'level_choice_time'})\n",
    "\n",
    "pack_choice_df = total_events_df[total_events_df['event_type'] == 'pack_choice'][['user_id', 'start_time']]\n",
    "pack_choice_df = pack_choice_df.rename(columns={'start_time': 'pack_choice_time'})\n",
    "\n",
    "purchase_df_new = purchase_df[['user_id', 'event_datetime']].rename(columns={'event_datetime': 'purchase_time'})\n",
    "\n",
    "# Объединяем таблицы регистрации и выбора уровня, считаем среднее время между событиями по группам\n",
    "merged_reg_and_level_choice = registration_df.merge(level_choice_df, on='user_id')\n",
    "merged_reg_and_level_choice['timedelta'] = \\\n",
    "    merged_reg_and_level_choice['level_choice_time'] - merged_reg_and_level_choice['registration_time']\n",
    "\n",
    "# Узнаем среднее время между регистрацией и выбором уровня для двух групп: кто учился и кто - нет\n",
    "reg_level_choice_td_finished_tutorial = \\\n",
    "    merged_reg_and_level_choice[merged_reg_and_level_choice['user_id'].isin(\n",
    "        users_finished_tutorial)]['timedelta'].mean()\n",
    "print('Среднее время между регистрацией и выбором уровня сложности для пользователей, завершивших обучение: ',\n",
    "      reg_level_choice_td_finished_tutorial)\n",
    "\n",
    "reg_level_choice_td_not_started_tutorial = \\\n",
    "    merged_reg_and_level_choice[merged_reg_and_level_choice['user_id'].isin(\n",
    "        set_users_not_started_tutorial)]['timedelta'].mean()\n",
    "print('Среднее время между регистрацией и выбором уровня сложности для пользователей, не начинавших обучение: ',\n",
    "      reg_level_choice_td_not_started_tutorial)"
   ]
  },
  {
   "cell_type": "code",
   "execution_count": 22,
   "id": "c8038425-fe22-4f8c-b9c1-a880bb42efd7",
   "metadata": {},
   "outputs": [
    {
     "name": "stdout",
     "output_type": "stream",
     "text": [
      "Среднее время между выбором уровня сложности и выбором пакета для пользователей, завершивших обучение:  0 days 00:05:18.146058732\n",
      "Среднее время между выбором уровня сложности и выбором пакета для пользователей, не начинавших обучение:  0 days 00:05:23.824324324\n"
     ]
    }
   ],
   "source": [
    "# Объединяем таблицы выбора уровня и выбора пакета, считаем среднее время между событиями по группам\n",
    "merged_level_and_pack_choice = level_choice_df.merge(pack_choice_df, on='user_id')\n",
    "merged_level_and_pack_choice['timedelta'] = \\\n",
    "    merged_level_and_pack_choice['pack_choice_time'] - merged_level_and_pack_choice['level_choice_time']\n",
    "\n",
    "# Узнаем среднее время между выбором уровня и выбором пакета для двух групп: кто учился и кто - нет\n",
    "level_and_pack_choice_td_finished_tutorial = \\\n",
    "    merged_level_and_pack_choice[merged_level_and_pack_choice['user_id'].isin(\n",
    "        users_finished_tutorial)]['timedelta'].mean()\n",
    "print('Среднее время между выбором уровня сложности и выбором пакета для пользователей, завершивших обучение: ',\n",
    "      level_and_pack_choice_td_finished_tutorial)\n",
    "\n",
    "level_and_pack_choice_td_not_started_tutorial = \\\n",
    "    merged_level_and_pack_choice[merged_level_and_pack_choice['user_id'].isin(\n",
    "        set_users_not_started_tutorial)]['timedelta'].mean()\n",
    "print('Среднее время между выбором уровня сложности и выбором пакета для пользователей, не начинавших обучение: ',\n",
    "      level_and_pack_choice_td_not_started_tutorial)"
   ]
  },
  {
   "cell_type": "code",
   "execution_count": 23,
   "id": "4eb08a0b-3ccf-44e7-878a-b0aef2bdf120",
   "metadata": {},
   "outputs": [
    {
     "name": "stdout",
     "output_type": "stream",
     "text": [
      "Среднее время между выбором пакета и покупкой для пользователей, завершивших обучение:  3 days 17:17:59.641326883\n",
      "Среднее время между выбором пакета и покупкой для пользователей, не начинавших обучение:  4 days 04:49:33.590909090\n"
     ]
    }
   ],
   "source": [
    "# Объединяем таблицы выбора пакета и покупки, считаем среднее время между событиями по группам\n",
    "merged_pack_choice_and_purchase = pack_choice_df.merge(purchase_df_new, on='user_id')\n",
    "merged_pack_choice_and_purchase['timedelta'] = \\\n",
    "    merged_pack_choice_and_purchase['purchase_time'] - merged_pack_choice_and_purchase['pack_choice_time']\n",
    "\n",
    "# Узнаем среднее время между выбором пакета и покупкой для двух групп: кто учился и кто - нет\n",
    "pack_choice_and_purchase_td_finished_tutorial = \\\n",
    "    merged_pack_choice_and_purchase[merged_pack_choice_and_purchase['user_id'].isin(\n",
    "        users_finished_tutorial)]['timedelta'].mean()\n",
    "print('Среднее время между выбором пакета и покупкой для пользователей, завершивших обучение: ',\n",
    "      pack_choice_and_purchase_td_finished_tutorial)\n",
    "\n",
    "pack_choice_and_purchase_td_not_started_tutorial = \\\n",
    "    merged_pack_choice_and_purchase[merged_pack_choice_and_purchase['user_id'].isin(\n",
    "        set_users_not_started_tutorial)]['timedelta'].mean()\n",
    "print('Среднее время между выбором пакета и покупкой для пользователей, не начинавших обучение: ',\n",
    "      pack_choice_and_purchase_td_not_started_tutorial)"
   ]
  },
  {
   "cell_type": "code",
   "execution_count": 24,
   "id": "11bdf48e-7094-46a4-b702-e78b624fb5d7",
   "metadata": {},
   "outputs": [
    {
     "data": {
      "text/html": [
       "<div>\n",
       "<style scoped>\n",
       "    .dataframe tbody tr th:only-of-type {\n",
       "        vertical-align: middle;\n",
       "    }\n",
       "\n",
       "    .dataframe tbody tr th {\n",
       "        vertical-align: top;\n",
       "    }\n",
       "\n",
       "    .dataframe thead th {\n",
       "        text-align: right;\n",
       "    }\n",
       "</style>\n",
       "<table border=\"1\" class=\"dataframe\">\n",
       "  <thead>\n",
       "    <tr style=\"text-align: right;\">\n",
       "      <th></th>\n",
       "      <th>td_reg_and_level_choice</th>\n",
       "      <th>td_level_and_pack_choice</th>\n",
       "      <th>td_pack_choice_and_purchase</th>\n",
       "    </tr>\n",
       "  </thead>\n",
       "  <tbody>\n",
       "    <tr>\n",
       "      <th>finished_tutorial</th>\n",
       "      <td>425.61</td>\n",
       "      <td>5.3</td>\n",
       "      <td>5357.99</td>\n",
       "    </tr>\n",
       "    <tr>\n",
       "      <th>not_started_tutorial</th>\n",
       "      <td>315.55</td>\n",
       "      <td>5.4</td>\n",
       "      <td>6049.56</td>\n",
       "    </tr>\n",
       "  </tbody>\n",
       "</table>\n",
       "</div>"
      ],
      "text/plain": [
       "                      td_reg_and_level_choice  td_level_and_pack_choice  \\\n",
       "finished_tutorial                      425.61                       5.3   \n",
       "not_started_tutorial                   315.55                       5.4   \n",
       "\n",
       "                      td_pack_choice_and_purchase  \n",
       "finished_tutorial                         5357.99  \n",
       "not_started_tutorial                      6049.56  "
      ]
     },
     "metadata": {},
     "output_type": "display_data"
    }
   ],
   "source": [
    "# Построим датафрейм для дальнейшего построения столбчатой диаграммы. Время переведём в минуты, чтобы можно было сравнить в диаграмме\n",
    "level_times_df = pd.DataFrame([[round(reg_level_choice_td_finished_tutorial.total_seconds()/60, 2),\n",
    "                                round(level_and_pack_choice_td_finished_tutorial.total_seconds()/60, 2),\n",
    "                                 round(pack_choice_and_purchase_td_finished_tutorial.total_seconds()/60, 2)],\n",
    "                                [round(reg_level_choice_td_not_started_tutorial.total_seconds()/60, 2),\n",
    "                                 round(level_and_pack_choice_td_not_started_tutorial.total_seconds()/60, 2),\n",
    "                                 round(pack_choice_and_purchase_td_not_started_tutorial.total_seconds()/60, 2)]],\n",
    "                              index=['finished_tutorial', 'not_started_tutorial'],\n",
    "                              columns=['td_reg_and_level_choice', 'td_level_and_pack_choice',\n",
    "                                       'td_pack_choice_and_purchase'])\n",
    "display(level_times_df)"
   ]
  },
  {
   "cell_type": "markdown",
   "id": "1412ad1d-c1cd-40fa-8570-41527dbaad91",
   "metadata": {},
   "source": [
    "### Гипотеза 2. \n",
    "### Доказать, что успешное обучение само по себе влияет на оплату и не имеет значения то, каким этапом оно шло.\n",
    "\n",
    "Для этого надо проверить, существует ли зависимость между вероятностью оплаты вопросов и количеством обучений, которые начинал или завершал пользователь."
   ]
  },
  {
   "cell_type": "markdown",
   "id": "d29ba6ba-67b0-4460-9924-1a24829bbd79",
   "metadata": {},
   "source": [
    "Разделим пользователей на группы, кто не начинал обучение, и начинал по количеству раз"
   ]
  },
  {
   "cell_type": "code",
   "execution_count": 25,
   "id": "6afb427a-5e46-470a-a69c-f809b21b2e46",
   "metadata": {},
   "outputs": [],
   "source": [
    "# Определим список пользователей, которые начинали обучение, посчитаем кто по сколько раз начинал\n",
    "users_started_tutorial_df = \\\n",
    "    total_events_df[total_events_df['event_type'] == 'tutorial_start'][['user_id', 'start_time']]\n",
    "users_with_times_started_tutorial = users_started_tutorial_df.groupby('user_id',as_index = False).count()\n",
    "# Добавим к ним тех, кто не начинал обучение, с отметкой ноль\n",
    "not_started_df = pd.DataFrame({'user_id': list(set_users_not_started_tutorial)})\n",
    "not_started_df['start_time'] = 0\n",
    "# Объединим их\n",
    "total_start_tutorial_df = pd.concat([users_with_times_started_tutorial,not_started_df],sort=False)\n",
    "# Получилась таблица, в которой указаны пользователи с количеством раз, сколько они начинали обучение\n",
    "# Посчитаем количество покупок на каждого пользователя\n",
    "purchase_count = purchase_df_new.groupby('user_id', as_index=False).count()\n",
    "# Присоединим таблицу с количеством заказов к таблице с количеством стартов обучений, заменим отсутствие заказов нулями\n",
    "start_tutorial_and_purchase = total_start_tutorial_df.merge(purchase_count, on='user_id', how='left').fillna(0)"
   ]
  },
  {
   "cell_type": "markdown",
   "id": "87c48519-80c3-46d5-8c27-6750ad56343c",
   "metadata": {},
   "source": [
    "Разделим пользователей на группы, кто не заканчивал обучение, и заканчивал по количеству раз"
   ]
  },
  {
   "cell_type": "code",
   "execution_count": 26,
   "id": "69d1a245-2640-4d54-919e-8a1a9e6891e2",
   "metadata": {},
   "outputs": [],
   "source": [
    "# Определим список пользователей, которые окрнчили обучение, посчитаем кто по сколько раз окончил\n",
    "users_finished_tutorial_df = \\\n",
    "    total_events_df[total_events_df['event_type'] == 'tutorial_finish'][['user_id', 'start_time']]\n",
    "users_with_times_finish_tutorial = users_finished_tutorial_df.groupby('user_id',as_index = False).count()\n",
    "# Добавим к ним тех, кто не начинал обучение, с отметкой ноль\n",
    "set_users_not_finished_tutorial = set_all_users.difference(set(users_finished_tutorial_df['user_id']))\n",
    "not_finished_df = pd.DataFrame({'user_id': list(set_users_not_finished_tutorial)})\n",
    "not_finished_df['start_time'] = 0\n",
    "# Объединим их\n",
    "total_finish_tutorial_df = pd.concat([users_with_times_finish_tutorial,not_finished_df],sort=False)\n",
    "# Получилась таблица, в которой указаны пользователи с количеством раз, сколько они оканчивали обучение\n",
    "# Присоединим таблицу с количеством заказов к таблице с количеством окончаний обучений, заменим NaN нулями\n",
    "finish_tutorial_and_purchase = total_finish_tutorial_df.merge(purchase_count, on='user_id', how='left').fillna(0)"
   ]
  },
  {
   "cell_type": "markdown",
   "id": "8a3b11ce-aaf6-4ce1-b826-c7f12c7d2264",
   "metadata": {},
   "source": [
    "Посчитаем среднее количество заказов на пользователей разных групп, для дальнейшего построения диаграммы на основе датафреймов"
   ]
  },
  {
   "cell_type": "code",
   "execution_count": 27,
   "id": "61f4d5ac-23e7-4693-ba7c-46ecc7ae263f",
   "metadata": {},
   "outputs": [
    {
     "data": {
      "text/html": [
       "<div>\n",
       "<style scoped>\n",
       "    .dataframe tbody tr th:only-of-type {\n",
       "        vertical-align: middle;\n",
       "    }\n",
       "\n",
       "    .dataframe tbody tr th {\n",
       "        vertical-align: top;\n",
       "    }\n",
       "\n",
       "    .dataframe thead th {\n",
       "        text-align: right;\n",
       "    }\n",
       "</style>\n",
       "<table border=\"1\" class=\"dataframe\">\n",
       "  <thead>\n",
       "    <tr style=\"text-align: right;\">\n",
       "      <th></th>\n",
       "      <th>start_time</th>\n",
       "      <th>purchase_time</th>\n",
       "    </tr>\n",
       "  </thead>\n",
       "  <tbody>\n",
       "    <tr>\n",
       "      <th>0</th>\n",
       "      <td>0</td>\n",
       "      <td>0.002727</td>\n",
       "    </tr>\n",
       "    <tr>\n",
       "      <th>1</th>\n",
       "      <td>1</td>\n",
       "      <td>0.132594</td>\n",
       "    </tr>\n",
       "    <tr>\n",
       "      <th>2</th>\n",
       "      <td>2</td>\n",
       "      <td>0.137193</td>\n",
       "    </tr>\n",
       "    <tr>\n",
       "      <th>3</th>\n",
       "      <td>3</td>\n",
       "      <td>0.119438</td>\n",
       "    </tr>\n",
       "    <tr>\n",
       "      <th>4</th>\n",
       "      <td>4</td>\n",
       "      <td>0.135747</td>\n",
       "    </tr>\n",
       "    <tr>\n",
       "      <th>5</th>\n",
       "      <td>5</td>\n",
       "      <td>0.146789</td>\n",
       "    </tr>\n",
       "    <tr>\n",
       "      <th>6</th>\n",
       "      <td>6</td>\n",
       "      <td>0.120690</td>\n",
       "    </tr>\n",
       "    <tr>\n",
       "      <th>7</th>\n",
       "      <td>7</td>\n",
       "      <td>0.127660</td>\n",
       "    </tr>\n",
       "    <tr>\n",
       "      <th>8</th>\n",
       "      <td>8</td>\n",
       "      <td>0.151163</td>\n",
       "    </tr>\n",
       "    <tr>\n",
       "      <th>9</th>\n",
       "      <td>9</td>\n",
       "      <td>0.150442</td>\n",
       "    </tr>\n",
       "  </tbody>\n",
       "</table>\n",
       "</div>"
      ],
      "text/plain": [
       "   start_time  purchase_time\n",
       "0           0       0.002727\n",
       "1           1       0.132594\n",
       "2           2       0.137193\n",
       "3           3       0.119438\n",
       "4           4       0.135747\n",
       "5           5       0.146789\n",
       "6           6       0.120690\n",
       "7           7       0.127660\n",
       "8           8       0.151163\n",
       "9           9       0.150442"
      ]
     },
     "metadata": {},
     "output_type": "display_data"
    },
    {
     "data": {
      "text/html": [
       "<div>\n",
       "<style scoped>\n",
       "    .dataframe tbody tr th:only-of-type {\n",
       "        vertical-align: middle;\n",
       "    }\n",
       "\n",
       "    .dataframe tbody tr th {\n",
       "        vertical-align: top;\n",
       "    }\n",
       "\n",
       "    .dataframe thead th {\n",
       "        text-align: right;\n",
       "    }\n",
       "</style>\n",
       "<table border=\"1\" class=\"dataframe\">\n",
       "  <thead>\n",
       "    <tr style=\"text-align: right;\">\n",
       "      <th></th>\n",
       "      <th>start_time</th>\n",
       "      <th>purchase_time</th>\n",
       "    </tr>\n",
       "  </thead>\n",
       "  <tbody>\n",
       "    <tr>\n",
       "      <th>0</th>\n",
       "      <td>0</td>\n",
       "      <td>0.015812</td>\n",
       "    </tr>\n",
       "    <tr>\n",
       "      <th>1</th>\n",
       "      <td>1</td>\n",
       "      <td>0.142608</td>\n",
       "    </tr>\n",
       "    <tr>\n",
       "      <th>2</th>\n",
       "      <td>2</td>\n",
       "      <td>0.137774</td>\n",
       "    </tr>\n",
       "    <tr>\n",
       "      <th>3</th>\n",
       "      <td>3</td>\n",
       "      <td>0.127536</td>\n",
       "    </tr>\n",
       "    <tr>\n",
       "      <th>4</th>\n",
       "      <td>4</td>\n",
       "      <td>0.106742</td>\n",
       "    </tr>\n",
       "    <tr>\n",
       "      <th>5</th>\n",
       "      <td>5</td>\n",
       "      <td>0.162393</td>\n",
       "    </tr>\n",
       "    <tr>\n",
       "      <th>6</th>\n",
       "      <td>6</td>\n",
       "      <td>0.148515</td>\n",
       "    </tr>\n",
       "    <tr>\n",
       "      <th>7</th>\n",
       "      <td>7</td>\n",
       "      <td>0.154639</td>\n",
       "    </tr>\n",
       "    <tr>\n",
       "      <th>8</th>\n",
       "      <td>8</td>\n",
       "      <td>0.111111</td>\n",
       "    </tr>\n",
       "    <tr>\n",
       "      <th>9</th>\n",
       "      <td>9</td>\n",
       "      <td>0.181818</td>\n",
       "    </tr>\n",
       "  </tbody>\n",
       "</table>\n",
       "</div>"
      ],
      "text/plain": [
       "   start_time  purchase_time\n",
       "0           0       0.015812\n",
       "1           1       0.142608\n",
       "2           2       0.137774\n",
       "3           3       0.127536\n",
       "4           4       0.106742\n",
       "5           5       0.162393\n",
       "6           6       0.148515\n",
       "7           7       0.154639\n",
       "8           8       0.111111\n",
       "9           9       0.181818"
      ]
     },
     "metadata": {},
     "output_type": "display_data"
    }
   ],
   "source": [
    "# Считаем среднее количество заказов на пользователя, согласно его группе количества стартов обучения\n",
    "grouped_start_tutorial_and_purchase = \\\n",
    "    start_tutorial_and_purchase.groupby('start_time', as_index=False)['purchase_time'].mean()\n",
    "display(grouped_start_tutorial_and_purchase)\n",
    "\n",
    "# Считаем среднее количество заказов на пользователя, согласно его группе количества окончаний обучения\n",
    "grouped_finish_tutorial_and_purchase = \\\n",
    "    finish_tutorial_and_purchase.groupby('start_time', as_index=False)['purchase_time'].mean()\n",
    "display(grouped_finish_tutorial_and_purchase)"
   ]
  },
  {
   "cell_type": "markdown",
   "id": "e5e47557-dbaa-4652-8dea-39f54d6bdb56",
   "metadata": {},
   "source": [
    "### Гипотеза 3. \n",
    "### Определить, насколько прозрачен процесс взаимодействия с игрой.\n",
    "\n",
    "Надо выяснить, как часто пользователи начинают обучение после выбора уровня сложности. (Это позволит оценить прозрачность процесса взаимодействия с игрой: если пользователи после выбора уровня сложности обращаются к обучению, значит, работа с приложением непонятна.)"
   ]
  },
  {
   "cell_type": "code",
   "execution_count": 28,
   "id": "3fb45189-a5df-4bed-a64f-3b45e66a9ee2",
   "metadata": {},
   "outputs": [
    {
     "name": "stdout",
     "output_type": "stream",
     "text": [
      "Процент случаев, в котором пользователи возвращаются к обучению после выбора уровня сложности:  15.47\n"
     ]
    }
   ],
   "source": [
    "# Создадим датафрейм с событием старта обучения, сравним время с событием выбора уровня сложности\n",
    "tutorial_start_df = total_events_df[total_events_df['event_type'] == 'tutorial_start'][['user_id', 'start_time']]\n",
    "tutorial_start_df = tutorial_start_df.rename(columns={'start_time': 'tutorial_start_time'})\n",
    "# Объединим датафреймы и сравним время начала обучения и время выбора уровня сложности по каждой строке начала обучения\n",
    "merged_hypothesis_3 = tutorial_start_df.merge(level_choice_df, on='user_id', how='left')\n",
    "merged_hypothesis_3['late_tutorial'] = merged_hypothesis_3['level_choice_time'] < \\\n",
    "                                       merged_hypothesis_3['tutorial_start_time']\n",
    "# Считаем количество поздних обучений, и считаем их процент от выбора уровня сложности\n",
    "late_tutorial_percent = (merged_hypothesis_3[merged_hypothesis_3['late_tutorial'] == True]['user_id'].count() /\n",
    "                         tutorial_start_df['user_id'].count())*100\n",
    "print('Процент случаев, в котором пользователи возвращаются к обучению '\n",
    "      'после выбора уровня сложности: ', round(late_tutorial_percent, 2))"
   ]
  },
  {
   "cell_type": "markdown",
   "id": "a4fb99fd-fcbd-4084-a73d-bbe8e434974d",
   "metadata": {},
   "source": [
    "#### Строим диаграммы.\n",
    "\n",
    "Сначала импортируем библиотеку matplotlib, затем построим 3 столбчатых диаграммы для каждого из временных промежутков между событиями, для проверки первой гипотезы."
   ]
  },
  {
   "cell_type": "code",
   "execution_count": 29,
   "id": "ed18ce13-b1a8-4ede-818b-02ed02316c70",
   "metadata": {},
   "outputs": [],
   "source": [
    "import matplotlib.pyplot as plt\n",
    "%matplotlib inline"
   ]
  },
  {
   "cell_type": "code",
   "execution_count": 30,
   "id": "b9f02fa1-202f-4eab-ba7c-4b937f1b98e2",
   "metadata": {},
   "outputs": [
    {
     "data": {
      "image/png": "[encoded data removed]",
      "text/plain": [
       "<Figure size 1080x288 with 3 Axes>"
      ]
     },
     "metadata": {
      "needs_background": "light"
     },
     "output_type": "display_data"
    }
   ],
   "source": [
    "fig, axes = plt.subplots(nrows=1, ncols=3, figsize=(15, 4))\n",
    "axes[0].bar(\n",
    "    x=level_times_df.index,\n",
    "    height=level_times_df['td_reg_and_level_choice'],\n",
    "    label='минут'\n",
    ")\n",
    "axes[0].set_title('1.1. Временной промежуток в минутах \\n между регистрацией и выбором \\n уровня сложности')\n",
    "axes[0].xaxis.set_tick_params(rotation=45)\n",
    "\n",
    "axes[1].bar(\n",
    "    x=level_times_df.index,\n",
    "    height=level_times_df['td_level_and_pack_choice']\n",
    ")\n",
    "axes[1].set_title('1.2. Временной промежуток в минутах \\n между выбором уровня сложности и \\n выбором пакета вопросов')\n",
    "axes[1].xaxis.set_tick_params(rotation=45)\n",
    "\n",
    "axes[2].bar(\n",
    "    x=level_times_df.index,\n",
    "    height=level_times_df['td_pack_choice_and_purchase']\n",
    ")\n",
    "axes[2].set_title('1.3. Временной промежуток в минутах \\n между выбором пакета вопросов \\n и покупкой')\n",
    "axes[2].xaxis.set_tick_params(rotation=45)"
   ]
  },
  {
   "cell_type": "markdown",
   "id": "3037bf5c-d774-4de9-996c-d38f60bd3462",
   "metadata": {},
   "source": [
    "Построим 2 столбчатые диаграммы чтобы увидеть наглядно, есть ли зависимость вероятности покупки от количеств стартов и окончаний обучений."
   ]
  },
  {
   "cell_type": "code",
   "execution_count": 31,
   "id": "9d0a199c-f59b-4941-9045-538f39e52ec8",
   "metadata": {},
   "outputs": [
    {
     "data": {
      "text/plain": [
       "<AxesSubplot:title={'center':'2.1. Среднее количество покупок на пользователя \\n в зависимости от количества стартов обучения'}, xlabel='количество стартов обучения'>"
      ]
     },
     "execution_count": 31,
     "metadata": {},
     "output_type": "execute_result"
    },
    {
     "data": {
      "image/png": "[encoded data removed]",
      "text/plain": [
       "<Figure size 432x288 with 1 Axes>"
      ]
     },
     "metadata": {
      "needs_background": "light"
     },
     "output_type": "display_data"
    }
   ],
   "source": [
    "grouped_start_tutorial_and_purchase.plot(\n",
    "    kind='bar',\n",
    "    x='start_time',\n",
    "    legend = False,\n",
    "    title = '2.1. Среднее количество покупок на пользователя \\n в зависимости от количества стартов обучения',\n",
    "    grid=True,\n",
    "    colormap='plasma',\n",
    "    xlabel='количество стартов обучения'\n",
    ")"
   ]
  },
  {
   "cell_type": "code",
   "execution_count": 32,
   "id": "bba52bee-c987-4f02-9b9f-ea934556b054",
   "metadata": {},
   "outputs": [
    {
     "data": {
      "text/plain": [
       "<AxesSubplot:title={'center':'2.2. Среднее количество покупок на пользователя \\n в зависимости от количества завершений обучения'}, xlabel='количество завершений обучения'>"
      ]
     },
     "execution_count": 32,
     "metadata": {},
     "output_type": "execute_result"
    },
    {
     "data": {
      "image/png": "[encoded data removed]",
      "text/plain": [
       "<Figure size 432x288 with 1 Axes>"
      ]
     },
     "metadata": {
      "needs_background": "light"
     },
     "output_type": "display_data"
    }
   ],
   "source": [
    "grouped_finish_tutorial_and_purchase.plot(\n",
    "    kind='bar',\n",
    "    x='start_time',\n",
    "    legend = False,\n",
    "    title = '2.2. Среднее количество покупок на пользователя \\n в зависимости от количества завершений обучения',\n",
    "    grid=True,\n",
    "    colormap='plasma',\n",
    "    xlabel='количество завершений обучения'\n",
    ")"
   ]
  },
  {
   "cell_type": "markdown",
   "id": "4c0cb176-5614-4289-88ae-92448c04f7bf",
   "metadata": {},
   "source": [
    "# Выводы.\n",
    "\n",
    "#### Гипотеза 1. \n",
    "Как видно из диаграмм 1.1., 1.2. и 1.3., не находится явной зависимости скорости прохождения этапов от наличия оконченного обучения. Но видно, что пользователи, которые не обучаются, быстрее переходят от регистрации к выбору уровня сложности. Это можно объяснить тем, чтоб обучающиеся пользователи тратят время на обучение. Зато они немного быстрее переходят к покупке платных вопросов после выбора пакета бесплатных вопросов. Поэтому можно сделать вывод, что обучение незначительно сокращает время от выбора пакета вопросов до покупки. \n",
    "##### Гипотеза подтверждена частично.\n",
    "\n",
    "\n",
    "#### Гипотеза 2. \n",
    "Диаграммы 2.1. и 2.2. показывают зависимость покупки от количества стартов и окончаний обучения. Видна значительная разница между обучавшимися и не обучавшимися пользователями - у обучающихся среднее количество покупок гораздо выше.\n",
    "Таже прослеживается небольшая тенденция к росту вероятности покупки в зависимости от количества обучений, но она нестабильна и не явно выражена, поэтому считаю, что она требует дополнительных наблюдений.\n",
    "##### Гипотеза подтверждена, т.к. успешное обучения явно влияет на вероятность покупки.\n",
    "\n",
    "\n",
    "#### Гипотеза 3. \n",
    "Анализ данных показал, что процент случаев, в котором пользователи возвращаются к обучению после выбора уровня сложности:  15.47. Значит, некоторые пользователи всё же возвращаются к обучению, уже после старта игры. \n",
    "##### Можно говорить о том, что процесс взаимодействия с игрой недостаточно прозрачен.\n"
   ]
  }
 ],
 "metadata": {
  "kernelspec": {
   "display_name": "Python 3",
   "language": "python",
   "name": "python3"
  },
  "language_info": {
   "codemirror_mode": {
    "name": "ipython",
    "version": 3
   },
   "file_extension": ".py",
   "mimetype": "text/x-python",
   "name": "python",
   "nbconvert_exporter": "python",
   "pygments_lexer": "ipython3",
   "version": "3.8.8"
  },
  "toc-autonumbering": false,
  "toc-showcode": false,
  "toc-showmarkdowntxt": true,
  "toc-showtags": true
 },
 "nbformat": 4,
 "nbformat_minor": 5
}
